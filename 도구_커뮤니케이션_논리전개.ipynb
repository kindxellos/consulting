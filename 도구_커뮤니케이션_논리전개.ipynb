{
 "cells": [
  {
   "cell_type": "markdown",
   "id": "bf895c9a",
   "metadata": {},
   "source": [
    "# PSA (Problem, Agitate, Solution)\n",
    "\n",
    "문제 제시, 심각성 강조, 해결책 제시\n",
    "- 문제에 대한 불안감 공감하게 만들고\n",
    "- 해결방안 제시하여\n",
    "- 고객의 행동을 유도"
   ]
  },
  {
   "cell_type": "markdown",
   "id": "d056aff4",
   "metadata": {},
   "source": [
    "# ADIA (Attention, Interest, Desire, Action)\n",
    "\n",
    "주목시키고, 관심유발, 욕망촉진, 행동 취하게 \n",
    "\n",
    "광고, 마케팅 메시지를 통해 고객의 구매결정 과정을 단계별로 이끌어내기에 적합"
   ]
  },
  {
   "cell_type": "markdown",
   "id": "151035a7",
   "metadata": {},
   "source": [
    "# S.T.A.R. (Situation, Task, Action, Result)\n",
    "\n",
    "특정 상황 설명, 목표 제시, 어떤 행동을 했는지, 성과는 무엇인지\n",
    "\n",
    "경력, 성과 설명 또는 인터뷰 상황에서 자신의 경험과 성과를 구체적으로 밝히는데 사용"
   ]
  },
  {
   "cell_type": "markdown",
   "id": "db552f8a",
   "metadata": {},
   "source": [
    "# Inverted Pyramid \n",
    "\n",
    "가장 중요한 핵심 정보 먼저 제시\n",
    "\n",
    "그 다음 중요성 순으로 세부 내용 제시\n",
    "\n",
    "빠르게 스캔하면서도 중요정보를 놓치지 않게 할 수 있다"
   ]
  },
  {
   "cell_type": "markdown",
   "id": "3f321138",
   "metadata": {},
   "source": [
    "# SPI (Situation, Problem, Implication)\n",
    "\n",
    "현재 상황 제시, 문제점, 문제점이 초래하는 부정적 영향 설명\n",
    "\n",
    "문제 심각성 강조, 해결 필요성 부각시키는 데 유용하다"
   ]
  },
  {
   "cell_type": "markdown",
   "id": "90f5b909",
   "metadata": {},
   "source": [
    "# SCQA (Situation, Complication, Question, Answer)\n",
    "\n",
    "특정 상황 설명, 발생할 수 있는 복잡한 문제/요소 제시, 관련 질문 던지고, 해답 제시\n",
    "\n",
    "복잡한 정보, 아이디어를 구조적, 논리적으로 전달하고 독자의 궁금증 유발 및 해소에 효과적"
   ]
  }
 ],
 "metadata": {
  "kernelspec": {
   "display_name": "Python 3 (ipykernel)",
   "language": "python",
   "name": "python3"
  },
  "language_info": {
   "codemirror_mode": {
    "name": "ipython",
    "version": 3
   },
   "file_extension": ".py",
   "mimetype": "text/x-python",
   "name": "python",
   "nbconvert_exporter": "python",
   "pygments_lexer": "ipython3",
   "version": "3.11.5"
  }
 },
 "nbformat": 4,
 "nbformat_minor": 5
}
